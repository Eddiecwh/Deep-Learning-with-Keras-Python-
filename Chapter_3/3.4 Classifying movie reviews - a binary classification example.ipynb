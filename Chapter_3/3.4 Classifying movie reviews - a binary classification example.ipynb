{
 "cells": [
  {
   "cell_type": "code",
   "execution_count": 2,
   "metadata": {},
   "outputs": [
    {
     "name": "stderr",
     "output_type": "stream",
     "text": [
      "Using TensorFlow backend.\n"
     ]
    }
   ],
   "source": [
    "# 3.1 Loading the IMDB dataset\n",
    "\n",
    "from keras.datasets import imdb\n",
    "\n",
    "(train_data, train_labels), (test_data, test_labels) = imdb.load_data(num_words=10000)"
   ]
  },
  {
   "cell_type": "code",
   "execution_count": 3,
   "metadata": {},
   "outputs": [
    {
     "data": {
      "text/plain": [
       "[1,\n",
       " 14,\n",
       " 22,\n",
       " 16,\n",
       " 43,\n",
       " 530,\n",
       " 973,\n",
       " 1622,\n",
       " 1385,\n",
       " 65,\n",
       " 458,\n",
       " 4468,\n",
       " 66,\n",
       " 3941,\n",
       " 4,\n",
       " 173,\n",
       " 36,\n",
       " 256,\n",
       " 5,\n",
       " 25,\n",
       " 100,\n",
       " 43,\n",
       " 838,\n",
       " 112,\n",
       " 50,\n",
       " 670,\n",
       " 2,\n",
       " 9,\n",
       " 35,\n",
       " 480,\n",
       " 284,\n",
       " 5,\n",
       " 150,\n",
       " 4,\n",
       " 172,\n",
       " 112,\n",
       " 167,\n",
       " 2,\n",
       " 336,\n",
       " 385,\n",
       " 39,\n",
       " 4,\n",
       " 172,\n",
       " 4536,\n",
       " 1111,\n",
       " 17,\n",
       " 546,\n",
       " 38,\n",
       " 13,\n",
       " 447,\n",
       " 4,\n",
       " 192,\n",
       " 50,\n",
       " 16,\n",
       " 6,\n",
       " 147,\n",
       " 2025,\n",
       " 19,\n",
       " 14,\n",
       " 22,\n",
       " 4,\n",
       " 1920,\n",
       " 4613,\n",
       " 469,\n",
       " 4,\n",
       " 22,\n",
       " 71,\n",
       " 87,\n",
       " 12,\n",
       " 16,\n",
       " 43,\n",
       " 530,\n",
       " 38,\n",
       " 76,\n",
       " 15,\n",
       " 13,\n",
       " 1247,\n",
       " 4,\n",
       " 22,\n",
       " 17,\n",
       " 515,\n",
       " 17,\n",
       " 12,\n",
       " 16,\n",
       " 626,\n",
       " 18,\n",
       " 2,\n",
       " 5,\n",
       " 62,\n",
       " 386,\n",
       " 12,\n",
       " 8,\n",
       " 316,\n",
       " 8,\n",
       " 106,\n",
       " 5,\n",
       " 4,\n",
       " 2223,\n",
       " 5244,\n",
       " 16,\n",
       " 480,\n",
       " 66,\n",
       " 3785,\n",
       " 33,\n",
       " 4,\n",
       " 130,\n",
       " 12,\n",
       " 16,\n",
       " 38,\n",
       " 619,\n",
       " 5,\n",
       " 25,\n",
       " 124,\n",
       " 51,\n",
       " 36,\n",
       " 135,\n",
       " 48,\n",
       " 25,\n",
       " 1415,\n",
       " 33,\n",
       " 6,\n",
       " 22,\n",
       " 12,\n",
       " 215,\n",
       " 28,\n",
       " 77,\n",
       " 52,\n",
       " 5,\n",
       " 14,\n",
       " 407,\n",
       " 16,\n",
       " 82,\n",
       " 2,\n",
       " 8,\n",
       " 4,\n",
       " 107,\n",
       " 117,\n",
       " 5952,\n",
       " 15,\n",
       " 256,\n",
       " 4,\n",
       " 2,\n",
       " 7,\n",
       " 3766,\n",
       " 5,\n",
       " 723,\n",
       " 36,\n",
       " 71,\n",
       " 43,\n",
       " 530,\n",
       " 476,\n",
       " 26,\n",
       " 400,\n",
       " 317,\n",
       " 46,\n",
       " 7,\n",
       " 4,\n",
       " 2,\n",
       " 1029,\n",
       " 13,\n",
       " 104,\n",
       " 88,\n",
       " 4,\n",
       " 381,\n",
       " 15,\n",
       " 297,\n",
       " 98,\n",
       " 32,\n",
       " 2071,\n",
       " 56,\n",
       " 26,\n",
       " 141,\n",
       " 6,\n",
       " 194,\n",
       " 7486,\n",
       " 18,\n",
       " 4,\n",
       " 226,\n",
       " 22,\n",
       " 21,\n",
       " 134,\n",
       " 476,\n",
       " 26,\n",
       " 480,\n",
       " 5,\n",
       " 144,\n",
       " 30,\n",
       " 5535,\n",
       " 18,\n",
       " 51,\n",
       " 36,\n",
       " 28,\n",
       " 224,\n",
       " 92,\n",
       " 25,\n",
       " 104,\n",
       " 4,\n",
       " 226,\n",
       " 65,\n",
       " 16,\n",
       " 38,\n",
       " 1334,\n",
       " 88,\n",
       " 12,\n",
       " 16,\n",
       " 283,\n",
       " 5,\n",
       " 16,\n",
       " 4472,\n",
       " 113,\n",
       " 103,\n",
       " 32,\n",
       " 15,\n",
       " 16,\n",
       " 5345,\n",
       " 19,\n",
       " 178,\n",
       " 32]"
      ]
     },
     "execution_count": 3,
     "metadata": {},
     "output_type": "execute_result"
    }
   ],
   "source": [
    "train_data[0]"
   ]
  },
  {
   "cell_type": "code",
   "execution_count": 4,
   "metadata": {},
   "outputs": [
    {
     "data": {
      "text/plain": [
       "1"
      ]
     },
     "execution_count": 4,
     "metadata": {},
     "output_type": "execute_result"
    }
   ],
   "source": [
    "train_labels[0]"
   ]
  },
  {
   "cell_type": "code",
   "execution_count": 5,
   "metadata": {},
   "outputs": [
    {
     "data": {
      "text/plain": [
       "9999"
      ]
     },
     "execution_count": 5,
     "metadata": {},
     "output_type": "execute_result"
    }
   ],
   "source": [
    "max([max(sequence) for sequence in train_data])"
   ]
  },
  {
   "cell_type": "code",
   "execution_count": 6,
   "metadata": {},
   "outputs": [],
   "source": [
    "word_index = imdb.get_word_index()\n",
    "reverse_word_index = dict(\n",
    "    [(value, key) for (key, value) in word_index.items()])\n",
    "decoded_review = ' '.join(\n",
    "    [reverse_word_index.get(i - 3, '?') for i in train_data[0]])"
   ]
  },
  {
   "cell_type": "code",
   "execution_count": 7,
   "metadata": {},
   "outputs": [],
   "source": [
    "# 3.2 Encoding the integer sequences into a binary matrix\n",
    "\n",
    "import numpy as np\n",
    "\n",
    "def vectorize_sequences(sequences, dimension=10000):\n",
    "    results = np.zeros((len(sequences), dimension))\n",
    "    for i, sequence in enumerate(sequences):\n",
    "        results[i, sequence] = 1.\n",
    "    return results\n",
    "\n",
    "x_train = vectorize_sequences(train_data)\n",
    "x_test = vectorize_sequences(test_data)"
   ]
  },
  {
   "cell_type": "code",
   "execution_count": 8,
   "metadata": {},
   "outputs": [
    {
     "data": {
      "text/plain": [
       "array([0., 1., 1., ..., 0., 0., 0.])"
      ]
     },
     "execution_count": 8,
     "metadata": {},
     "output_type": "execute_result"
    }
   ],
   "source": [
    "x_train[0]"
   ]
  },
  {
   "cell_type": "code",
   "execution_count": 9,
   "metadata": {},
   "outputs": [],
   "source": [
    "y_train = np.asarray(train_labels).astype('float32')\n",
    "y_test = np.asarray(test_labels).astype('float32')"
   ]
  },
  {
   "cell_type": "code",
   "execution_count": 10,
   "metadata": {},
   "outputs": [],
   "source": [
    "# 3.3 The model definition\n",
    "\n",
    "from keras import models\n",
    "from keras import layers\n",
    "\n",
    "model = models.Sequential()\n",
    "model.add(layers.Dense(16, activation='relu', input_shape=(10000,)))\n",
    "model.add(layers.Dense(16, activation='relu'))\n",
    "model.add(layers.Dense(1, activation='sigmoid'))"
   ]
  },
  {
   "cell_type": "code",
   "execution_count": 11,
   "metadata": {},
   "outputs": [],
   "source": [
    "# 3.4 Compiling the model\n",
    "\n",
    "model.compile(optimizer='rmsprop',\n",
    "              loss='binary_crossentropy',\n",
    "              metrics=['accuracy'])"
   ]
  },
  {
   "cell_type": "code",
   "execution_count": 12,
   "metadata": {},
   "outputs": [
    {
     "name": "stdout",
     "output_type": "stream",
     "text": [
      "Train on 24000 samples, validate on 1000 samples\n",
      "Epoch 1/20\n",
      "24000/24000 [==============================] - 4s 185us/step - loss: 0.4484 - acc: 0.8212 - val_loss: 0.3151 - val_acc: 0.8770\n",
      "Epoch 2/20\n",
      "24000/24000 [==============================] - 2s 84us/step - loss: 0.2592 - acc: 0.9086 - val_loss: 0.2602 - val_acc: 0.8870\n",
      "Epoch 3/20\n",
      "24000/24000 [==============================] - 2s 63us/step - loss: 0.1987 - acc: 0.9300 - val_loss: 0.2502 - val_acc: 0.8880\n",
      "Epoch 4/20\n",
      "24000/24000 [==============================] - 1s 58us/step - loss: 0.1661 - acc: 0.9413 - val_loss: 0.2558 - val_acc: 0.8890\n",
      "Epoch 5/20\n",
      "24000/24000 [==============================] - 2s 64us/step - loss: 0.1408 - acc: 0.9513 - val_loss: 0.2650 - val_acc: 0.8900\n",
      "Epoch 6/20\n",
      "24000/24000 [==============================] - 2s 73us/step - loss: 0.1203 - acc: 0.9592 - val_loss: 0.2817 - val_acc: 0.8950\n",
      "Epoch 7/20\n",
      "24000/24000 [==============================] - 1s 52us/step - loss: 0.1020 - acc: 0.9662 - val_loss: 0.3014 - val_acc: 0.8930\n",
      "Epoch 8/20\n",
      "24000/24000 [==============================] - 1s 52us/step - loss: 0.0897 - acc: 0.9701 - val_loss: 0.3195 - val_acc: 0.8870\n",
      "Epoch 9/20\n",
      "24000/24000 [==============================] - 1s 52us/step - loss: 0.0744 - acc: 0.9767 - val_loss: 0.3485 - val_acc: 0.8840\n",
      "Epoch 10/20\n",
      "24000/24000 [==============================] - 1s 54us/step - loss: 0.0638 - acc: 0.9805 - val_loss: 0.3687 - val_acc: 0.8810\n",
      "Epoch 11/20\n",
      "24000/24000 [==============================] - 1s 52us/step - loss: 0.0536 - acc: 0.9839 - val_loss: 0.4249 - val_acc: 0.8800\n",
      "Epoch 12/20\n",
      "24000/24000 [==============================] - 1s 52us/step - loss: 0.0434 - acc: 0.9878 - val_loss: 0.4643 - val_acc: 0.8750\n",
      "Epoch 13/20\n",
      "24000/24000 [==============================] - 1s 60us/step - loss: 0.0369 - acc: 0.9898 - val_loss: 0.4413 - val_acc: 0.8840\n",
      "Epoch 14/20\n",
      "24000/24000 [==============================] - 1s 53us/step - loss: 0.0278 - acc: 0.9930 - val_loss: 0.4845 - val_acc: 0.8790\n",
      "Epoch 15/20\n",
      "24000/24000 [==============================] - 1s 53us/step - loss: 0.0230 - acc: 0.9947 - val_loss: 0.5064 - val_acc: 0.8810\n",
      "Epoch 16/20\n",
      "24000/24000 [==============================] - 1s 52us/step - loss: 0.0174 - acc: 0.9964 - val_loss: 0.5492 - val_acc: 0.8770\n",
      "Epoch 17/20\n",
      "24000/24000 [==============================] - 1s 55us/step - loss: 0.0162 - acc: 0.9959 - val_loss: 0.5936 - val_acc: 0.8760\n",
      "Epoch 18/20\n",
      "24000/24000 [==============================] - 1s 53us/step - loss: 0.0110 - acc: 0.9979 - val_loss: 0.6181 - val_acc: 0.8750\n",
      "Epoch 19/20\n",
      "24000/24000 [==============================] - 2s 69us/step - loss: 0.0091 - acc: 0.9981 - val_loss: 0.6364 - val_acc: 0.8750\n",
      "Epoch 20/20\n",
      "24000/24000 [==============================] - 1s 52us/step - loss: 0.0084 - acc: 0.9978 - val_loss: 0.6785 - val_acc: 0.8750\n"
     ]
    }
   ],
   "source": [
    "# 3.4.4 Validating your approach\n",
    "# Creating a validation set by setting apart 10,0000 samples from the original trainign data\n",
    "\n",
    "# 3.7 Setting aside a validation set\n",
    "\n",
    "x_val = x_train[:1000]\n",
    "partial_x_train = x_train[1000:]\n",
    "y_val = y_train[:1000]\n",
    "partial_y_train = y_train[1000:]\n",
    "\n",
    "history = model.fit(partial_x_train,\n",
    "                    partial_y_train,\n",
    "                    epochs=20,\n",
    "                    batch_size=512,\n",
    "                    validation_data=(x_val, y_val))"
   ]
  },
  {
   "cell_type": "code",
   "execution_count": 13,
   "metadata": {
    "scrolled": true
   },
   "outputs": [
    {
     "name": "stdout",
     "output_type": "stream",
     "text": [
      "Train on 15000 samples, validate on 10000 samples\n",
      "Epoch 1/20\n",
      "15000/15000 [==============================] - 2s 120us/step - loss: 0.0148 - acc: 0.9961 - val_loss: 0.0734 - val_acc: 0.9875\n",
      "Epoch 2/20\n",
      "15000/15000 [==============================] - 1s 74us/step - loss: 0.0021 - acc: 1.0000 - val_loss: 0.0760 - val_acc: 0.9871\n",
      "Epoch 3/20\n",
      "15000/15000 [==============================] - 1s 78us/step - loss: 0.0065 - acc: 0.9979 - val_loss: 0.0811 - val_acc: 0.9861\n",
      "Epoch 4/20\n",
      "15000/15000 [==============================] - 1s 75us/step - loss: 8.9865e-04 - acc: 1.0000 - val_loss: 0.0853 - val_acc: 0.9852\n",
      "Epoch 5/20\n",
      "15000/15000 [==============================] - 1s 77us/step - loss: 6.8278e-04 - acc: 1.0000 - val_loss: 0.0923 - val_acc: 0.9840\n",
      "Epoch 6/20\n",
      "15000/15000 [==============================] - 1s 74us/step - loss: 0.0043 - acc: 0.9988 - val_loss: 0.0994 - val_acc: 0.9816\n",
      "Epoch 7/20\n",
      "15000/15000 [==============================] - 1s 76us/step - loss: 3.2406e-04 - acc: 1.0000 - val_loss: 0.1069 - val_acc: 0.9797\n",
      "Epoch 8/20\n",
      "15000/15000 [==============================] - 1s 76us/step - loss: 2.5774e-04 - acc: 1.0000 - val_loss: 0.1180 - val_acc: 0.9757\n",
      "Epoch 9/20\n",
      "15000/15000 [==============================] - 1s 77us/step - loss: 0.0033 - acc: 0.9991 - val_loss: 0.1261 - val_acc: 0.9743\n",
      "Epoch 10/20\n",
      "15000/15000 [==============================] - 1s 78us/step - loss: 1.4122e-04 - acc: 1.0000 - val_loss: 0.1367 - val_acc: 0.9713\n",
      "Epoch 11/20\n",
      "15000/15000 [==============================] - 1s 78us/step - loss: 1.1484e-04 - acc: 1.0000 - val_loss: 0.1487 - val_acc: 0.9680\n",
      "Epoch 12/20\n",
      "15000/15000 [==============================] - 1s 85us/step - loss: 8.8678e-05 - acc: 1.0000 - val_loss: 0.1718 - val_acc: 0.9644\n",
      "Epoch 13/20\n",
      "15000/15000 [==============================] - 1s 80us/step - loss: 0.0036 - acc: 0.9991 - val_loss: 0.1763 - val_acc: 0.9637\n",
      "Epoch 14/20\n",
      "15000/15000 [==============================] - 1s 78us/step - loss: 4.8014e-05 - acc: 1.0000 - val_loss: 0.1872 - val_acc: 0.9613\n",
      "Epoch 15/20\n",
      "15000/15000 [==============================] - 1s 74us/step - loss: 3.9739e-05 - acc: 1.0000 - val_loss: 0.1989 - val_acc: 0.9583\n",
      "Epoch 16/20\n",
      "15000/15000 [==============================] - 1s 74us/step - loss: 3.2666e-05 - acc: 1.0000 - val_loss: 0.2116 - val_acc: 0.9565\n",
      "Epoch 17/20\n",
      "15000/15000 [==============================] - 1s 74us/step - loss: 0.0026 - acc: 0.9995 - val_loss: 0.2261 - val_acc: 0.9561\n",
      "Epoch 18/20\n",
      "15000/15000 [==============================] - 1s 75us/step - loss: 1.6852e-05 - acc: 1.0000 - val_loss: 0.2319 - val_acc: 0.9545\n",
      "Epoch 19/20\n",
      "15000/15000 [==============================] - 1s 75us/step - loss: 1.4389e-05 - acc: 1.0000 - val_loss: 0.2442 - val_acc: 0.9526\n",
      "Epoch 20/20\n",
      "15000/15000 [==============================] - 1s 75us/step - loss: 1.2400e-05 - acc: 1.0000 - val_loss: 0.2563 - val_acc: 0.9512\n"
     ]
    }
   ],
   "source": [
    "# 3.8 Training your model\n",
    "\n",
    "x_val = x_train[:10000]\n",
    "partial_x_train = x_train[10000:]\n",
    "\n",
    "y_val = y_train[:10000]\n",
    "partial_y_train = y_train[10000:]\n",
    "\n",
    "model.compile(optimizer='rmsprop',\n",
    "              loss='binary_crossentropy',\n",
    "              metrics=['acc'])\n",
    "\n",
    "history = model.fit(partial_x_train,\n",
    "                    partial_y_train,\n",
    "                    epochs=20,\n",
    "                    batch_size=512,\n",
    "                    validation_data=(x_val, y_val))"
   ]
  },
  {
   "cell_type": "code",
   "execution_count": 14,
   "metadata": {},
   "outputs": [
    {
     "data": {
      "text/plain": [
       "dict_keys(['val_loss', 'val_acc', 'loss', 'acc'])"
      ]
     },
     "execution_count": 14,
     "metadata": {},
     "output_type": "execute_result"
    }
   ],
   "source": [
    "history_dict = history.history\n",
    "history_dict.keys()"
   ]
  },
  {
   "cell_type": "code",
   "execution_count": 15,
   "metadata": {},
   "outputs": [
    {
     "data": {
      "text/plain": [
       "<Figure size 640x480 with 1 Axes>"
      ]
     },
     "metadata": {},
     "output_type": "display_data"
    }
   ],
   "source": [
    "# 3.10 Ploting the training and validation less\n",
    "\n",
    "import matplotlib.pyplot as plt\n",
    "\n",
    "history_dict = history.history\n",
    "loss_values = history_dict['loss']\n",
    "val_loss_values = history_dict['val_loss']\n",
    "acc = history_dict['acc']\n",
    "\n",
    "epochs = range(1, len(acc) + 1)\n",
    "\n",
    "plt.plot(epochs, loss_values, 'bo', label='Training loss')\n",
    "plt.plot(epochs, val_loss_values, 'b', label='Validation loss')\n",
    "plt.title('Training and validation loss')\n",
    "plt.xlabel('Epochs')\n",
    "plt.ylabel('Loss')\n",
    "plt.legend()\n",
    "\n",
    "plt.show()"
   ]
  },
  {
   "cell_type": "code",
   "execution_count": 16,
   "metadata": {},
   "outputs": [
    {
     "data": {
      "image/png": "[encoded data removed]",
      "text/plain": [
       "<Figure size 432x288 with 1 Axes>"
      ]
     },
     "metadata": {
      "needs_background": "light"
     },
     "output_type": "display_data"
    }
   ],
   "source": [
    "# Lisitng 3.10 Plotting the training and validation accuracy\n",
    "\n",
    "plt.clf()\n",
    "acc_values = history_dict['acc']\n",
    "val_acc_values = history_dict['val_acc']\n",
    "\n",
    "plt.plot(epochs, acc_values, 'bo', label='Training_acc')\n",
    "plt.plot(epochs, val_acc_values, 'b', label='Validation acc')\n",
    "plt.title('Training and validation accuracy')\n",
    "plt.xlabel('Epochs')\n",
    "plt.ylabel('Loss')\n",
    "plt.legend()\n",
    "\n",
    "plt.show()"
   ]
  },
  {
   "cell_type": "code",
   "execution_count": 17,
   "metadata": {},
   "outputs": [
    {
     "name": "stdout",
     "output_type": "stream",
     "text": [
      "Epoch 1/4\n",
      "25000/25000 [==============================] - 2s 81us/step - loss: 0.4526 - acc: 0.8195\n",
      "Epoch 2/4\n",
      "25000/25000 [==============================] - 1s 55us/step - loss: 0.2586 - acc: 0.9104\n",
      "Epoch 3/4\n",
      "25000/25000 [==============================] - 1s 50us/step - loss: 0.1990 - acc: 0.9294\n",
      "Epoch 4/4\n",
      "25000/25000 [==============================] - 1s 50us/step - loss: 0.1682 - acc: 0.9402\n",
      "25000/25000 [==============================] - 3s 139us/step\n"
     ]
    }
   ],
   "source": [
    "# 3.11 Retraining a model from scratch\n",
    "\n",
    "model = models.Sequential()\n",
    "model.add(layers.Dense(16, activation='relu', input_shape=(10000,)))\n",
    "model.add(layers.Dense(16, activation='relu'))\n",
    "model.add(layers.Dense(1, activation='sigmoid'))\n",
    "\n",
    "model.compile(optimizer='rmsprop',\n",
    "              loss='binary_crossentropy',\n",
    "              metrics=['accuracy'])\n",
    "model.fit(x_train, y_train, epochs=4, batch_size=512)\n",
    "results = model.evaluate(x_test, y_test)"
   ]
  },
  {
   "cell_type": "code",
   "execution_count": 18,
   "metadata": {},
   "outputs": [
    {
     "data": {
      "text/plain": [
       "array([[0.17515542],\n",
       "       [0.99982244],\n",
       "       [0.8037203 ],\n",
       "       ...,\n",
       "       [0.11588231],\n",
       "       [0.05290081],\n",
       "       [0.59750694]], dtype=float32)"
      ]
     },
     "execution_count": 18,
     "metadata": {},
     "output_type": "execute_result"
    }
   ],
   "source": [
    "results\n",
    "\n",
    "model.predict(x_test)"
   ]
  },
  {
   "cell_type": "code",
   "execution_count": 19,
   "metadata": {},
   "outputs": [
    {
     "data": {
      "text/plain": [
       "[0.2980814848423004, 0.88172]"
      ]
     },
     "execution_count": 19,
     "metadata": {},
     "output_type": "execute_result"
    }
   ],
   "source": [
    "results"
   ]
  },
  {
   "cell_type": "code",
   "execution_count": null,
   "metadata": {},
   "outputs": [],
   "source": []
  }
 ],
 "metadata": {
  "kernelspec": {
   "display_name": "Python 3",
   "language": "python",
   "name": "python3"
  },
  "language_info": {
   "codemirror_mode": {
    "name": "ipython",
    "version": 3
   },
   "file_extension": ".py",
   "mimetype": "text/x-python",
   "name": "python",
   "nbconvert_exporter": "python",
   "pygments_lexer": "ipython3",
   "version": "3.6.8"
  }
 },
 "nbformat": 4,
 "nbformat_minor": 2
}
